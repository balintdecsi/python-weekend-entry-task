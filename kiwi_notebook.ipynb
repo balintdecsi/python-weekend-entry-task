{
 "cells": [
  {
   "cell_type": "code",
   "execution_count": 16,
   "metadata": {},
   "outputs": [],
   "source": [
    "import re\n",
    "from collections import defaultdict"
   ]
  },
  {
   "cell_type": "code",
   "execution_count": 6,
   "metadata": {},
   "outputs": [
    {
     "name": "stdout",
     "output_type": "stream",
     "text": [
      "{'_no', 'EZO', 'VVH', 'ori', 'ZRW', 'WUE', 'JBN', 'BPZ', 'WTN', 'NNB'}\n"
     ]
    }
   ],
   "source": [
    "s = []\n",
    "with open(\"example\\\\example3.csv\", \"r\") as f:\n",
    "        for line in f:\n",
    "            s.append(line[6:9])\n",
    "            s.append(line[10:13])\n",
    "ss = set(s)\n",
    "print(ss)    "
   ]
  },
  {
   "cell_type": "code",
   "execution_count": 20,
   "metadata": {},
   "outputs": [
    {
     "name": "stdout",
     "output_type": "stream",
     "text": [
      "tzuiLL\n"
     ]
    }
   ],
   "source": [
    "\n",
    "part1 = '?P<myasd>'\n",
    "mymatch = re.match(r'(' + part1 + r'\\w{4}LL),(?P<mytzui>\\w{4}LL)', \"qwerLL,tzuiLL\")\n",
    "print(mymatch.group(\"mytzui\"))"
   ]
  },
  {
   "cell_type": "code",
   "execution_count": 12,
   "metadata": {},
   "outputs": [
    {
     "name": "stdout",
     "output_type": "stream",
     "text": [
      "R123\n"
     ]
    }
   ],
   "source": [
    "yourmatch = re.match(r'[A-Z]123', \"R123\")\n",
    "print(yourmatch.group(0))"
   ]
  },
  {
   "cell_type": "code",
   "execution_count": 35,
   "metadata": {},
   "outputs": [
    {
     "data": {
      "text/plain": [
       "121212112122"
      ]
     },
     "execution_count": 35,
     "metadata": {},
     "output_type": "execute_result"
    }
   ],
   "source": [
    "b = defaultdict(lambda: defaultdict(list))\n",
    "b[\"fer\"][\"ner\"].append([1212112,121212112122])\n",
    "b[\"fer\"][\"ner\"][0][1]"
   ]
  },
  {
   "cell_type": "code",
   "execution_count": 28,
   "metadata": {},
   "outputs": [
    {
     "data": {
      "text/plain": [
       "'ererewewe'"
      ]
     },
     "execution_count": 28,
     "metadata": {},
     "output_type": "execute_result"
    }
   ],
   "source": [
    "r'erere'\\\n",
    "r'wewe'"
   ]
  },
  {
   "cell_type": "code",
   "execution_count": null,
   "metadata": {},
   "outputs": [],
   "source": []
  }
 ],
 "metadata": {
  "interpreter": {
   "hash": "b84c2d970653190f6ff42325a2892d12c901fcb7d34494d0bbe235517760655c"
  },
  "kernelspec": {
   "display_name": "Python 3.9.1 64-bit",
   "language": "python",
   "name": "python3"
  },
  "language_info": {
   "codemirror_mode": {
    "name": "ipython",
    "version": 3
   },
   "file_extension": ".py",
   "mimetype": "text/x-python",
   "name": "python",
   "nbconvert_exporter": "python",
   "pygments_lexer": "ipython3",
   "version": "3.9.1"
  },
  "orig_nbformat": 4
 },
 "nbformat": 4,
 "nbformat_minor": 2
}
