{
 "cells": [
  {
   "cell_type": "code",
   "execution_count": 7,
   "metadata": {},
   "outputs": [],
   "source": [
    "import re\n",
    "from collections import defaultdict\n",
    "from datetime import datetime"
   ]
  },
  {
   "cell_type": "code",
   "execution_count": 6,
   "metadata": {},
   "outputs": [
    {
     "name": "stdout",
     "output_type": "stream",
     "text": [
      "{'_no', 'EZO', 'VVH', 'ori', 'ZRW', 'WUE', 'JBN', 'BPZ', 'WTN', 'NNB'}\n"
     ]
    }
   ],
   "source": [
    "s = []\n",
    "with open(\"example\\\\example3.csv\", \"r\") as f:\n",
    "        for line in f:\n",
    "            s.append(line[6:9])\n",
    "            s.append(line[10:13])\n",
    "ss = set(s)\n",
    "print(ss)    "
   ]
  },
  {
   "cell_type": "code",
   "execution_count": 20,
   "metadata": {},
   "outputs": [
    {
     "name": "stdout",
     "output_type": "stream",
     "text": [
      "tzuiLL\n"
     ]
    }
   ],
   "source": [
    "\n",
    "part1 = '?P<myasd>'\n",
    "mymatch = re.match(r'(' + part1 + r'\\w{4}LL),(?P<mytzui>\\w{4}LL)', \"qwerLL,tzuiLL\")\n",
    "print(mymatch.group(\"mytzui\"))"
   ]
  },
  {
   "cell_type": "code",
   "execution_count": 26,
   "metadata": {},
   "outputs": [
    {
     "name": "stdout",
     "output_type": "stream",
     "text": [
      "wewew\n"
     ]
    }
   ],
   "source": [
    "def printer(mystr):\n",
    "    print(mystr)\n",
    "\n",
    "mystr = \"wewew\"\n",
    "printer(mystr)"
   ]
  },
  {
   "cell_type": "code",
   "execution_count": 14,
   "metadata": {},
   "outputs": [
    {
     "data": {
      "text/plain": [
       "'1:10:00'"
      ]
     },
     "execution_count": 14,
     "metadata": {},
     "output_type": "execute_result"
    }
   ],
   "source": [
    "a = datetime.fromisoformat(\"2021-09-01T23:35:00\")\n",
    "b = datetime.fromisoformat(\"2021-09-02T00:45:00\")\n",
    "str(b-a)"
   ]
  },
  {
   "cell_type": "code",
   "execution_count": 3,
   "metadata": {},
   "outputs": [
    {
     "name": "stdout",
     "output_type": "stream",
     "text": [
      "5\n"
     ]
    }
   ],
   "source": [
    "\n",
    "a = 5\n",
    "def printer():\n",
    "    print(a)\n",
    "printer()"
   ]
  },
  {
   "cell_type": "code",
   "execution_count": 27,
   "metadata": {},
   "outputs": [
    {
     "data": {
      "text/plain": [
       "2"
      ]
     },
     "execution_count": 27,
     "metadata": {},
     "output_type": "execute_result"
    }
   ],
   "source": [
    "len(a)"
   ]
  },
  {
   "cell_type": "code",
   "execution_count": null,
   "metadata": {},
   "outputs": [],
   "source": []
  }
 ],
 "metadata": {
  "interpreter": {
   "hash": "b84c2d970653190f6ff42325a2892d12c901fcb7d34494d0bbe235517760655c"
  },
  "kernelspec": {
   "display_name": "Python 3.9.1 64-bit",
   "language": "python",
   "name": "python3"
  },
  "language_info": {
   "codemirror_mode": {
    "name": "ipython",
    "version": 3
   },
   "file_extension": ".py",
   "mimetype": "text/x-python",
   "name": "python",
   "nbconvert_exporter": "python",
   "pygments_lexer": "ipython3",
   "version": "3.9.1"
  },
  "orig_nbformat": 4
 },
 "nbformat": 4,
 "nbformat_minor": 2
}
